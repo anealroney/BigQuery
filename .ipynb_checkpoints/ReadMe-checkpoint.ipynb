{
 "cells": [],
 "metadata": {
  "environment": {
   "name": "common-cpu.m47",
   "type": "gcloud",
   "uri": "gcr.io/deeplearning-platform-release/base-cpu:m47"
  }
 },
 "nbformat": 4,
 "nbformat_minor": 4
}
